{
 "cells": [
  {
   "cell_type": "markdown",
   "id": "5266142f",
   "metadata": {},
   "source": [
    "### Building Knowledge graphs"
   ]
  },
  {
   "cell_type": "markdown",
   "id": "d6e0b534",
   "metadata": {},
   "source": [
    "#### 1. Get TOC from pdf (using Gemini)"
   ]
  },
  {
   "cell_type": "code",
   "execution_count": 38,
   "id": "81774da9",
   "metadata": {},
   "outputs": [],
   "source": [
    "import google.generativeai as genai\n",
    "import os\n",
    "import fitz\n",
    "from langchain_core.output_parsers import JsonOutputParser"
   ]
  },
  {
   "cell_type": "code",
   "execution_count": 93,
   "id": "4cbfd066",
   "metadata": {},
   "outputs": [
    {
     "name": "stdin",
     "output_type": "stream",
     "text": [
      "Enter the Gemini API key ·······································\n"
     ]
    }
   ],
   "source": [
    "import getpass \n",
    "  \n",
    "import google.generativeai as genai\n",
    "import os\n",
    "\n",
    "os.environ[\"API_KEY\"] = getpass.getpass(prompt = 'Enter the Gemini API key')\n",
    "genai.configure(api_key=os.environ[\"API_KEY\"])\n",
    "\n",
    "\n",
    "# Generate content\n",
    "model = genai.GenerativeModel(model_name='gemini-2.0-flash-exp')#'gemini-1.5-pro')\n"
   ]
  },
  {
   "cell_type": "code",
   "execution_count": 4,
   "id": "1c747bee",
   "metadata": {},
   "outputs": [],
   "source": [
    "# import PIL.Image\n",
    "\n",
    "\n",
    "# sample_img = PIL.Image.open(\"page_pngs/page_0.png\")\n",
    "# response = model.generate_content([\"Print the content of the image.Do not hallucinate\", sample_img])\n",
    "# print(response.text)"
   ]
  },
  {
   "cell_type": "code",
   "execution_count": 96,
   "id": "b2ee8d12",
   "metadata": {},
   "outputs": [],
   "source": [
    "def extract_content_from_pdf(section_name, pdf_path=\"leph102.pdf\"):\n",
    "    sample_pdf = genai.upload_file(pdf_path)\n",
    "    prompt = \"\"\" From the given pdf, extract and print the content of the section given.\n",
    "    Extract the full content of the section even if it spans multiple pages.\n",
    "    Extract all the content till the next section starts.\n",
    "    Do not hallucinate. Do not include any prefix or suffix. Do not include ``` or markdown prefix.\n",
    "    \n",
    "    The output should contain entire content. section no and title can be skipped.\n",
    "    Output needs to be in markdown format. \n",
    "    \n",
    "    section to be extracted : {section_name} \n",
    "\n",
    "    \n",
    "    \n",
    "    \"\"\"\n",
    "    \n",
    "    prompt = prompt.format(section_name = section_name)\n",
    "    response = model.generate_content([prompt,sample_pdf],request_options={\"timeout\": 1000})\n",
    "#     parser = JsonOutputParser()\n",
    "#     section_content = parser.invoke(response.text)\n",
    "    return response.text\n",
    "    "
   ]
  },
  {
   "cell_type": "code",
   "execution_count": 95,
   "id": "0b858983",
   "metadata": {},
   "outputs": [
    {
     "data": {
      "text/plain": [
       "\"In Chapters 5 and 7 (Class XI), the notion of potential energy was\\nintroduced. When an external force does work in taking a body from a\\npoint to another against a force like spring force or gravitational force,\\nthat work gets stored as potential energy of the body. When the external\\nforce is removed, the body moves, gaining kinetic energy and losing\\nan equal amount of potential energy. The sum of kinetic and\\npotential energies is thus conserved. Forces of this kind are called\\nconservative forces. Spring force and gravitational force are examples of\\nconservative forces.\\n\\nCoulomb force between two (stationary) charges is also a conservative\\nforce. This is not surprising, since both have inverse-square dependence\\non distance and differ mainly in the proportionality constants: the\\nmasses in the gravitational law are replaced by charges in Coulomb's\\nlaw. Thus, like the potential energy of a mass in a gravitational\\nfield, we can define electrostatic potential energy of a charge in an\\nelectrostatic field.\\n\\nConsider an electrostatic field E due to some charge configuration.\\nFirst, for simplicity, consider the field E due to a charge Q placed at the\\norigin. Now, imagine that we bring a test charge q from a point R to a\\npoint P against the repulsive force on it due to the charge Q. With reference\\nto Fig. 2.1, this will happen if Q and q are both positive\\nor both negative. For definiteness, let us take Q, q > 0.\\nTwo remarks may be made here. First, we assume\\nthat the test charge q is so small that it does not disturb\\nthe original configuration, namely the charge at the\\norigin (or else, we keep Q fixed at the origin by some\\nunspecified force). Second, in bringing the charge q from\\nR to P, we apply an external force Fext just enough to\\ncounter the repulsive electric force FE (i.e, Fext = -FE).\\nThis means there is no net force on or acceleration of\\nthe charge q when it is brought from R to P, i.e., it is\\nbrought with infinitesimally slow constant speed. In\\nthis situation, work done by the external force is the negative of the work\\ndone by the electric force, and gets fully stored in the form of potential\\nenergy of the charge q. If the external force is removed on reaching P, the\\nelectric force will take the charge away from Q – the stored energy (potential\\nenergy) at P is used to provide kinetic energy to the charge q in such a\\nway that the sum of the kinetic and potential energies is conserved.\\n\\nThus, work done by external forces in moving a charge q from R to P is\\n\\nWRP = \\n ∫R^P Fext⋅dr\\n = −∫R^P FE⋅dr\\n                                                                                    (2.1)\\n\\nThis work done is against electrostatic repulsive force and gets stored\\nas potential energy.\\n\\nAt every point in electric field, a particle with charge q possesses a\\ncertain electrostatic potential energy, this work done increases its potential\\nenergy by an amount equal to potential energy difference between points\\nR and P.\\n\\nThus, potential energy difference\\n\\nΔU = UP - UR = WRP\\n                                                                                    (2.2)\\n\\n(Note here that this displacement is in an opposite sense to the electric\\nforce and hence work done by electric field is negative, i.e., –WRP.)\\n\\nTherefore, we can define electric potential energy difference between\\ntwo points as the work required to be done by an external force in moving\\n(without accelerating) charge q from one point to another for electric field\\nof any arbitrary charge configuration.\\n\\nTwo important comments may be made at this stage:\\n(i) The right side of Eq. (2.2) depends only on the initial and final positions\\nof the charge. It means that the work done by an electrostatic field in\\nmoving a charge from one point to another depends only on the initial\\nand the final points and is independent of the path taken to go from\\none point to the other. This is the fundamental characteristic of a\\nconservative force. The concept of the potential energy would not be\\nmeaningful if the work depended on the path. The path-independence\\nof work done by an electrostatic field can be proved using the\\nCoulomb’s law. We omit this proof here.\\n\\n(ii) Equation (2.2) defines potential energy difference in terms\\nof the physically meaningful quantity work. Clearly,\\npotential energy so defined is undetermined to within an\\nadditive constant. What this means is that the actual value\\nof potential energy is not physically significant; it is only\\nthe difference of potential energy that is significant. We can\\nalways add an arbitrary constant a to potential energy at\\nevery point, since this will not change the potential energy\\ndifference:\\n\\n(Up + a) – (UR + a) = UP - UR\\n\\nPut it differently, there is a freedom in choosing the point\\nwhere potential energy is zero. A convenient choice is to have\\nelectrostatic potential energy zero at infinity. With this choice,\\nif we take the point R at infinity, we get from Eq. (2.2)\\nWP∞ = UP - U∞ = UP\\n                                                                                                     (2.3)\\n\\nSince the point P is arbitrary, Eq. (2.3) provides us with a\\ndefinition of potential energy of a charge q at any point.\\nPotential energy of charge q at a point (in the presence of field\\ndue to any charge configuration) is the work done by the\\nexternal force (equal and opposite to the electric force) in\\nbringing the charge q from infinity to that point.\\n\""
      ]
     },
     "execution_count": 95,
     "metadata": {},
     "output_type": "execute_result"
    }
   ],
   "source": [
    "extract_content_from_pdf(\"Introduction\")"
   ]
  },
  {
   "cell_type": "markdown",
   "id": "19d47375",
   "metadata": {},
   "source": [
    "#### 2. loop through TOC and insert the content into Neo4j"
   ]
  },
  {
   "cell_type": "code",
   "execution_count": 34,
   "id": "b3d80961",
   "metadata": {},
   "outputs": [
    {
     "data": {
      "text/plain": [
       "{'subject': 'physics',\n",
       " 'subject_content': [{'chapter_no': 2,\n",
       "   'chapter_name': 'ELECTROSTATIC POTENTIAL AND CAPACITANCE',\n",
       "   'content': [{'section_no': '2.1',\n",
       "     'section_name': 'Introduction',\n",
       "     'page_no': 45,\n",
       "     'sub_sections': []},\n",
       "    {'section_no': '2.2',\n",
       "     'section_name': 'Electrostatic Potential',\n",
       "     'page_no': 47,\n",
       "     'sub_sections': []}]}]}"
      ]
     },
     "execution_count": 34,
     "metadata": {},
     "output_type": "execute_result"
    }
   ],
   "source": [
    "# add 'subject' key to toc\n",
    "toc = {'subject': 'physics',\n",
    " 'subject_content': [{'chapter_no': 2,\n",
    "   'chapter_name': 'ELECTROSTATIC POTENTIAL AND CAPACITANCE',\n",
    "   'content': [{'section_no': '2.1',\n",
    "     'section_name': 'Introduction',\n",
    "     'page_no': 45,\n",
    "     'sub_sections': []},\n",
    "    {'section_no': '2.2',\n",
    "     'section_name': 'Electrostatic Potential',\n",
    "     'page_no': 47,\n",
    "     'sub_sections': []}]\n",
    "                     }]\n",
    "      }\n",
    "toc"
   ]
  },
  {
   "cell_type": "markdown",
   "id": "a158342d",
   "metadata": {},
   "source": [
    "#### 3. Remove the single/double quote in text "
   ]
  },
  {
   "cell_type": "code",
   "execution_count": 22,
   "id": "3c65dd3c",
   "metadata": {},
   "outputs": [
    {
     "name": "stdout",
     "output_type": "stream",
     "text": [
      "{'subject': 'physics', 'subject_content': [{'chapter_no': 2, 'chapter_name': 'ELECTROSTATIC POTENTIAL AND CAPACITANCE', 'content': [{'section_no': '2.1', 'section_name': 'Introduction', 'page_no': 45, 'sub_sections': []}, {'section_no': '2.2', 'section_name': 'Electrostatic Potential', 'page_no': 47, 'sub_sections': []}, {'section_no': '2.3', 'section_name': 'POTENTIAL DUE TO A POINT CHARGE', 'page_no': 48, 'sub_sections': []}, {'section_no': '2.4', 'section_name': 'POTENTIAL DUE TO AN ELECTRIC DIPOLE', 'page_no': 49, 'sub_sections': []}, {'section_no': '2.5', 'section_name': 'POTENTIAL DUE TO A SYSTEM OF CHARGES', 'page_no': 51, 'sub_sections': []}, {'section_no': '2.6', 'section_name': 'Equipotential Surfaces', 'page_no': 54, 'sub_sections': [{'sub_section_no': '2.6.1', 'sub_section_name': 'Relation between field and potential', 'sub_section_page_no': 55}]}, {'section_no': '2.7', 'section_name': 'POTENTIAL ENERGY OF A SYSTEM OF CHARGES', 'page_no': 55, 'sub_sections': []}, {'section_no': '2.8', 'section_name': 'POTENTIAL ENERGY IN AN EXTERNAL FIELD', 'page_no': 58, 'sub_sections': [{'sub_section_no': '2.8.1', 'sub_section_name': 'Potential energy of a single charge', 'sub_section_page_no': 58}, {'sub_section_no': '2.8.2', 'sub_section_name': 'Potential energy of a system of two charges in an external field', 'sub_section_page_no': 59}, {'sub_section_no': '2.8.3', 'sub_section_name': 'Potential energy of a dipole in an external field', 'sub_section_page_no': 60}]}, {'section_no': '2.9', 'section_name': 'ELECTROSTATICS OF CONDUCTORS', 'page_no': 61, 'sub_sections': []}, {'section_no': '2.10', 'section_name': 'DIELECTRICS AND POLARISATION', 'page_no': 65, 'sub_sections': []}, {'section_no': '2.11', 'section_name': 'CAPACITORS AND CAPACITANCE', 'page_no': 67, 'sub_sections': []}, {'section_no': '2.12', 'section_name': 'THE PARALLEL PLATE CAPACITOR', 'page_no': 68, 'sub_sections': []}, {'section_no': '2.13', 'section_name': 'EFFECT OF DIELECTRIC ON CAPACITANCE', 'page_no': 69, 'sub_sections': []}, {'section_no': '2.14', 'section_name': 'COMBINATION OF CAPACITORS', 'page_no': 71, 'sub_sections': [{'sub_section_no': '2.14.1', 'sub_section_name': 'Capacitors in series', 'sub_section_page_no': 71}, {'sub_section_no': '2.14.2', 'sub_section_name': 'Capacitors in parallel', 'sub_section_page_no': 72}]}, {'section_no': '2.15', 'section_name': 'ENERGY STORED IN A CAPACITOR', 'page_no': 73, 'sub_sections': []}, {'section_no': None, 'section_name': 'SUMMARY', 'page_no': 76, 'sub_sections': []}, {'section_no': None, 'section_name': 'POINTS TO PONDER', 'page_no': 78, 'sub_sections': []}, {'section_no': None, 'section_name': 'EXERCISES', 'page_no': 79, 'sub_sections': []}]}]}\n"
     ]
    }
   ],
   "source": [
    "def remove_quotes_from_dict(data):\n",
    "    # Check if data is a dictionary\n",
    "    if isinstance(data, dict):\n",
    "        for key, value in data.items():\n",
    "            # Recursively call the function if the value is a dictionary or a list\n",
    "            data[key] = remove_quotes_from_dict(value)\n",
    "    elif isinstance(data, list):\n",
    "        for i in range(len(data)):\n",
    "            # Recursively call the function for each element in the list\n",
    "            data[i] = remove_quotes_from_dict(data[i])\n",
    "    elif isinstance(data, str):\n",
    "        # Remove single and double quotes from string\n",
    "        data = data.replace(\"'\", \"\").replace('\"', \"\")\n",
    "    \n",
    "    return data\n",
    "\n",
    "\n",
    "toc = remove_quotes_from_dict(toc)\n",
    "print(toc)\n"
   ]
  },
  {
   "cell_type": "markdown",
   "id": "892e5177",
   "metadata": {},
   "source": [
    "### neo4j utility functions"
   ]
  },
  {
   "cell_type": "code",
   "execution_count": 74,
   "id": "d30afd32",
   "metadata": {},
   "outputs": [
    {
     "name": "stdout",
     "output_type": "stream",
     "text": [
      "Collecting neo4j\n",
      "  Downloading neo4j-5.27.0-py3-none-any.whl.metadata (5.9 kB)\n",
      "Requirement already satisfied: pytz in /Users/Balaji/opt/anaconda3/envs/zg/lib/python3.9/site-packages (from neo4j) (2024.2)\n",
      "Downloading neo4j-5.27.0-py3-none-any.whl (301 kB)\n",
      "\u001b[2K   \u001b[90m━━━━━━━━━━━━━━━━━━━━━━━━━━━━━━━━━━━━━━━━\u001b[0m \u001b[32m301.7/301.7 kB\u001b[0m \u001b[31m1.6 MB/s\u001b[0m eta \u001b[36m0:00:00\u001b[0ma \u001b[36m0:00:01\u001b[0m\n",
      "\u001b[?25hInstalling collected packages: neo4j\n",
      "Successfully installed neo4j-5.27.0\n"
     ]
    }
   ],
   "source": [
    "!pip install neo4j"
   ]
  },
  {
   "cell_type": "code",
   "execution_count": 39,
   "id": "53f13c22",
   "metadata": {},
   "outputs": [],
   "source": [
    "import neo4j\n",
    "\n",
    "def execute_query(query):\n",
    "    uri = \"neo4j+s://a83594c4.databases.neo4j.io\" #\"bolt://3.228.217.85:7687\"\n",
    "#     driver = neo4j.GraphDatabase.driver(uri, auth=neo4j.basic_auth('neo4j', 'system-advantage-brake'))\n",
    "    driver = neo4j.GraphDatabase.driver(uri, auth=neo4j.basic_auth('neo4j', 'nXh9u6nEUPJKLVnyuzxe7NDgeCVJCYBoFX1NDJan9pw'))\n",
    "    with driver.session() as session:\n",
    "        result = session.run(query)\n",
    "        return result\n",
    "# function to loop through a list of dictionaries and insert into neo4j server\n",
    "def insert_into_neo4j(records,node_label,primary_key):\n",
    "    for row in records:\n",
    "        print(row[HEADER.index(primary_key)])\n",
    "        execute_query(f\"MERGE (n:{node_label} {{{primary_key}: '{row[HEADER.index(primary_key)]}'}})\")\n",
    "\n",
    "# function to loop through a list of dictionaries and create relationships between them\n",
    "def create_relationships(list_of_dicts):\n",
    "    for dict in list_of_dicts:\n",
    "        execute_query(f\"MATCH (n1:Node {{name: '{dict['name']}'}}), (n2:Node {{name: '{dict['name']}'}}) CREATE (n1)-[:RELATIONSHIP]->(n2)\")    \n",
    "\n"
   ]
  },
  {
   "cell_type": "code",
   "execution_count": 88,
   "id": "01414515",
   "metadata": {},
   "outputs": [],
   "source": [
    "import time\n",
    "def clean_property_value(value):\n",
    "    \"\"\"\n",
    "    Clean property value by removing/escaping quotes and converting to string\n",
    "    \"\"\"\n",
    "    if value is None:\n",
    "        return \"\"\n",
    "    # Convert to string and replace quotes\n",
    "    cleaned_value = str(value).replace(\"'\", \"\")\n",
    "    return cleaned_value\n",
    "\n",
    "def update_sections_with_content(chapter_name, pdf_path=\"leph102.pdf\"):\n",
    "    \"\"\"\n",
    "    Updates Neo4j SECTION nodes with content extracted from PDF for a given chapter\n",
    "    \n",
    "    Args:\n",
    "        chapter_name: Name of the chapter whose sections need to be updated\n",
    "    \"\"\"\n",
    "    # First get all sections for the given chapter from Neo4j\n",
    "    query = f\"\"\"\n",
    "    MATCH (c:CHAPTER {{chapter_name: '{chapter_name}'}})-[:HAS_content]->(s:SECTION)\n",
    "    RETURN s.section_name as section_name\n",
    "    \"\"\"\n",
    "    \n",
    "    # Execute query and collect all results immediately\n",
    "    with neo4j.GraphDatabase.driver(\n",
    "        \"neo4j+s://a83594c4.databases.neo4j.io\", \n",
    "        auth=neo4j.basic_auth('neo4j', 'nXh9u6nEUPJKLVnyuzxe7NDgeCVJCYBoFX1NDJan9pw')\n",
    "    ) as driver:\n",
    "        with driver.session() as session:\n",
    "            result = session.run(query)\n",
    "            sections = [record[\"section_name\"] for record in result.data()]\n",
    "    \n",
    "    print(f\"Found sections: {sections}\")\n",
    "#     sections = ['SUMMARY', 'POTENTIAL DUE TO AN ELECTRIC DIPOLE', 'POTENTIAL ENERGY OF A SYSTEM OF CHARGES', 'ELECTROSTATICS OF CONDUCTORS','EXERCISES']\n",
    "    # For each section, extract content and update Neo4j\n",
    "    for section_name in sections:\n",
    "        try:\n",
    "            # Extract content\n",
    "            section_content = extract_content_from_pdf(section_name,pdf_path)\n",
    "#             section_content = section_content[section_name]\n",
    "            time.sleep(30)\n",
    "            print(\"sleep completed!\")\n",
    "            # Clean content\n",
    "            cleaned_content = clean_property_value(str(section_content))\n",
    "            \n",
    "            # Update Neo4j\n",
    "            update_query = f\"\"\"\n",
    "            MATCH (s:SECTION {{section_name: '{section_name}', chapter_name: '{chapter_name}'}})\n",
    "            SET s.section_content = '{cleaned_content}'\n",
    "            \"\"\"\n",
    "            \n",
    "            print(f\"Updating content for section: {section_name}\")\n",
    "            execute_query(update_query)\n",
    "            \n",
    "        except Exception as e:\n",
    "            print(f\"Error processing section {section_name}: {str(e)}\")\n",
    "            continue"
   ]
  },
  {
   "cell_type": "code",
   "execution_count": 97,
   "id": "f79b3331",
   "metadata": {},
   "outputs": [
    {
     "name": "stdout",
     "output_type": "stream",
     "text": [
      "Found sections: ['INTRODUCTION', 'ELECTRIC CHARGE', 'CONDUCTORS AND INSULATORS', 'BASIC PROPERTIES OF ELECTRIC CHARGE', 'COULOMBS LAW', 'FORCES BETWEEN MULTIPLE CHARGES', 'ELECTRIC FIELD', 'ELECTRIC FIELD LINES', 'ELECTRIC FLUX', 'ELECTRIC DIPOLE', 'DIPOLE IN A UNIFORM EXTERNAL FIELD', 'CONTINUOUS CHARGE DISTRIBUTION', 'GAUSSS LAW', 'APPLICATIONS OF GAUSS’S LAW', 'SUMMARY']\n",
      "sleep completed!\n",
      "Updating content for section: INTRODUCTION\n",
      "sleep completed!\n",
      "Updating content for section: ELECTRIC CHARGE\n",
      "sleep completed!\n",
      "Updating content for section: CONDUCTORS AND INSULATORS\n",
      "sleep completed!\n",
      "Updating content for section: BASIC PROPERTIES OF ELECTRIC CHARGE\n",
      "sleep completed!\n",
      "Updating content for section: COULOMBS LAW\n",
      "sleep completed!\n",
      "Updating content for section: FORCES BETWEEN MULTIPLE CHARGES\n"
     ]
    },
    {
     "ename": "KeyboardInterrupt",
     "evalue": "",
     "output_type": "error",
     "traceback": [
      "\u001b[0;31m---------------------------------------------------------------------------\u001b[0m",
      "\u001b[0;31mKeyboardInterrupt\u001b[0m                         Traceback (most recent call last)",
      "Cell \u001b[0;32mIn[97], line 2\u001b[0m\n\u001b[1;32m      1\u001b[0m \u001b[38;5;66;03m# Call the function with a chapter name\u001b[39;00m\n\u001b[0;32m----> 2\u001b[0m \u001b[43mupdate_sections_with_content\u001b[49m\u001b[43m(\u001b[49m\u001b[43mchapter_name\u001b[49m\u001b[38;5;241;43m=\u001b[39;49m\u001b[38;5;124;43m\"\u001b[39;49m\u001b[38;5;124;43mELECTRIC CHARGES AND FIELDS\u001b[39;49m\u001b[38;5;124;43m\"\u001b[39;49m\u001b[43m,\u001b[49m\u001b[43mpdf_path\u001b[49m\u001b[38;5;241;43m=\u001b[39;49m\u001b[38;5;124;43m\"\u001b[39;49m\u001b[38;5;124;43mleph101.pdf\u001b[39;49m\u001b[38;5;124;43m\"\u001b[39;49m\u001b[43m)\u001b[49m\n",
      "Cell \u001b[0;32mIn[88], line 40\u001b[0m, in \u001b[0;36mupdate_sections_with_content\u001b[0;34m(chapter_name, pdf_path)\u001b[0m\n\u001b[1;32m     37\u001b[0m     \u001b[38;5;28;01mfor\u001b[39;00m section_name \u001b[38;5;129;01min\u001b[39;00m sections:\n\u001b[1;32m     38\u001b[0m         \u001b[38;5;28;01mtry\u001b[39;00m:\n\u001b[1;32m     39\u001b[0m             \u001b[38;5;66;03m# Extract content\u001b[39;00m\n\u001b[0;32m---> 40\u001b[0m             section_content \u001b[38;5;241m=\u001b[39m \u001b[43mextract_content_from_pdf\u001b[49m\u001b[43m(\u001b[49m\u001b[43msection_name\u001b[49m\u001b[43m,\u001b[49m\u001b[43mpdf_path\u001b[49m\u001b[43m)\u001b[49m\n\u001b[1;32m     41\u001b[0m \u001b[38;5;66;03m#             section_content = section_content[section_name]\u001b[39;00m\n\u001b[1;32m     42\u001b[0m             time\u001b[38;5;241m.\u001b[39msleep(\u001b[38;5;241m30\u001b[39m)\n",
      "Cell \u001b[0;32mIn[96], line 18\u001b[0m, in \u001b[0;36mextract_content_from_pdf\u001b[0;34m(section_name, pdf_path)\u001b[0m\n\u001b[1;32m      3\u001b[0m     prompt \u001b[38;5;241m=\u001b[39m \u001b[38;5;124m\"\"\"\u001b[39m\u001b[38;5;124m From the given pdf, extract and print the content of the section given.\u001b[39m\n\u001b[1;32m      4\u001b[0m \u001b[38;5;124m    Extract the full content of the section even if it spans multiple pages.\u001b[39m\n\u001b[1;32m      5\u001b[0m \u001b[38;5;124m    Extract all the content till the next section starts.\u001b[39m\n\u001b[0;32m   (...)\u001b[0m\n\u001b[1;32m     14\u001b[0m \u001b[38;5;124m    \u001b[39m\n\u001b[1;32m     15\u001b[0m \u001b[38;5;124m    \u001b[39m\u001b[38;5;124m\"\"\"\u001b[39m\n\u001b[1;32m     17\u001b[0m     prompt \u001b[38;5;241m=\u001b[39m prompt\u001b[38;5;241m.\u001b[39mformat(section_name \u001b[38;5;241m=\u001b[39m section_name)\n\u001b[0;32m---> 18\u001b[0m     response \u001b[38;5;241m=\u001b[39m \u001b[43mmodel\u001b[49m\u001b[38;5;241;43m.\u001b[39;49m\u001b[43mgenerate_content\u001b[49m\u001b[43m(\u001b[49m\u001b[43m[\u001b[49m\u001b[43mprompt\u001b[49m\u001b[43m,\u001b[49m\u001b[43msample_pdf\u001b[49m\u001b[43m]\u001b[49m\u001b[43m,\u001b[49m\u001b[43mrequest_options\u001b[49m\u001b[38;5;241;43m=\u001b[39;49m\u001b[43m{\u001b[49m\u001b[38;5;124;43m\"\u001b[39;49m\u001b[38;5;124;43mtimeout\u001b[39;49m\u001b[38;5;124;43m\"\u001b[39;49m\u001b[43m:\u001b[49m\u001b[43m \u001b[49m\u001b[38;5;241;43m1000\u001b[39;49m\u001b[43m}\u001b[49m\u001b[43m)\u001b[49m\n\u001b[1;32m     19\u001b[0m \u001b[38;5;66;03m#     parser = JsonOutputParser()\u001b[39;00m\n\u001b[1;32m     20\u001b[0m \u001b[38;5;66;03m#     section_content = parser.invoke(response.text)\u001b[39;00m\n\u001b[1;32m     21\u001b[0m     \u001b[38;5;28;01mreturn\u001b[39;00m response\u001b[38;5;241m.\u001b[39mtext\n",
      "File \u001b[0;32m~/opt/anaconda3/envs/zg/lib/python3.9/site-packages/google/generativeai/generative_models.py:331\u001b[0m, in \u001b[0;36mGenerativeModel.generate_content\u001b[0;34m(self, contents, generation_config, safety_settings, stream, tools, tool_config, request_options)\u001b[0m\n\u001b[1;32m    329\u001b[0m         \u001b[38;5;28;01mreturn\u001b[39;00m generation_types\u001b[38;5;241m.\u001b[39mGenerateContentResponse\u001b[38;5;241m.\u001b[39mfrom_iterator(iterator)\n\u001b[1;32m    330\u001b[0m     \u001b[38;5;28;01melse\u001b[39;00m:\n\u001b[0;32m--> 331\u001b[0m         response \u001b[38;5;241m=\u001b[39m \u001b[38;5;28;43mself\u001b[39;49m\u001b[38;5;241;43m.\u001b[39;49m\u001b[43m_client\u001b[49m\u001b[38;5;241;43m.\u001b[39;49m\u001b[43mgenerate_content\u001b[49m\u001b[43m(\u001b[49m\n\u001b[1;32m    332\u001b[0m \u001b[43m            \u001b[49m\u001b[43mrequest\u001b[49m\u001b[43m,\u001b[49m\n\u001b[1;32m    333\u001b[0m \u001b[43m            \u001b[49m\u001b[38;5;241;43m*\u001b[39;49m\u001b[38;5;241;43m*\u001b[39;49m\u001b[43mrequest_options\u001b[49m\u001b[43m,\u001b[49m\n\u001b[1;32m    334\u001b[0m \u001b[43m        \u001b[49m\u001b[43m)\u001b[49m\n\u001b[1;32m    335\u001b[0m         \u001b[38;5;28;01mreturn\u001b[39;00m generation_types\u001b[38;5;241m.\u001b[39mGenerateContentResponse\u001b[38;5;241m.\u001b[39mfrom_response(response)\n\u001b[1;32m    336\u001b[0m \u001b[38;5;28;01mexcept\u001b[39;00m google\u001b[38;5;241m.\u001b[39mapi_core\u001b[38;5;241m.\u001b[39mexceptions\u001b[38;5;241m.\u001b[39mInvalidArgument \u001b[38;5;28;01mas\u001b[39;00m e:\n",
      "File \u001b[0;32m~/opt/anaconda3/envs/zg/lib/python3.9/site-packages/google/ai/generativelanguage_v1beta/services/generative_service/client.py:830\u001b[0m, in \u001b[0;36mGenerativeServiceClient.generate_content\u001b[0;34m(self, request, model, contents, retry, timeout, metadata)\u001b[0m\n\u001b[1;32m    827\u001b[0m \u001b[38;5;28mself\u001b[39m\u001b[38;5;241m.\u001b[39m_validate_universe_domain()\n\u001b[1;32m    829\u001b[0m \u001b[38;5;66;03m# Send the request.\u001b[39;00m\n\u001b[0;32m--> 830\u001b[0m response \u001b[38;5;241m=\u001b[39m \u001b[43mrpc\u001b[49m\u001b[43m(\u001b[49m\n\u001b[1;32m    831\u001b[0m \u001b[43m    \u001b[49m\u001b[43mrequest\u001b[49m\u001b[43m,\u001b[49m\n\u001b[1;32m    832\u001b[0m \u001b[43m    \u001b[49m\u001b[43mretry\u001b[49m\u001b[38;5;241;43m=\u001b[39;49m\u001b[43mretry\u001b[49m\u001b[43m,\u001b[49m\n\u001b[1;32m    833\u001b[0m \u001b[43m    \u001b[49m\u001b[43mtimeout\u001b[49m\u001b[38;5;241;43m=\u001b[39;49m\u001b[43mtimeout\u001b[49m\u001b[43m,\u001b[49m\n\u001b[1;32m    834\u001b[0m \u001b[43m    \u001b[49m\u001b[43mmetadata\u001b[49m\u001b[38;5;241;43m=\u001b[39;49m\u001b[43mmetadata\u001b[49m\u001b[43m,\u001b[49m\n\u001b[1;32m    835\u001b[0m \u001b[43m\u001b[49m\u001b[43m)\u001b[49m\n\u001b[1;32m    837\u001b[0m \u001b[38;5;66;03m# Done; return the response.\u001b[39;00m\n\u001b[1;32m    838\u001b[0m \u001b[38;5;28;01mreturn\u001b[39;00m response\n",
      "File \u001b[0;32m~/opt/anaconda3/envs/zg/lib/python3.9/site-packages/google/api_core/gapic_v1/method.py:131\u001b[0m, in \u001b[0;36m_GapicCallable.__call__\u001b[0;34m(self, timeout, retry, compression, *args, **kwargs)\u001b[0m\n\u001b[1;32m    128\u001b[0m \u001b[38;5;28;01mif\u001b[39;00m \u001b[38;5;28mself\u001b[39m\u001b[38;5;241m.\u001b[39m_compression \u001b[38;5;129;01mis\u001b[39;00m \u001b[38;5;129;01mnot\u001b[39;00m \u001b[38;5;28;01mNone\u001b[39;00m:\n\u001b[1;32m    129\u001b[0m     kwargs[\u001b[38;5;124m\"\u001b[39m\u001b[38;5;124mcompression\u001b[39m\u001b[38;5;124m\"\u001b[39m] \u001b[38;5;241m=\u001b[39m compression\n\u001b[0;32m--> 131\u001b[0m \u001b[38;5;28;01mreturn\u001b[39;00m \u001b[43mwrapped_func\u001b[49m\u001b[43m(\u001b[49m\u001b[38;5;241;43m*\u001b[39;49m\u001b[43margs\u001b[49m\u001b[43m,\u001b[49m\u001b[43m \u001b[49m\u001b[38;5;241;43m*\u001b[39;49m\u001b[38;5;241;43m*\u001b[39;49m\u001b[43mkwargs\u001b[49m\u001b[43m)\u001b[49m\n",
      "File \u001b[0;32m~/opt/anaconda3/envs/zg/lib/python3.9/site-packages/google/api_core/retry/retry_unary.py:293\u001b[0m, in \u001b[0;36mRetry.__call__.<locals>.retry_wrapped_func\u001b[0;34m(*args, **kwargs)\u001b[0m\n\u001b[1;32m    289\u001b[0m target \u001b[38;5;241m=\u001b[39m functools\u001b[38;5;241m.\u001b[39mpartial(func, \u001b[38;5;241m*\u001b[39margs, \u001b[38;5;241m*\u001b[39m\u001b[38;5;241m*\u001b[39mkwargs)\n\u001b[1;32m    290\u001b[0m sleep_generator \u001b[38;5;241m=\u001b[39m exponential_sleep_generator(\n\u001b[1;32m    291\u001b[0m     \u001b[38;5;28mself\u001b[39m\u001b[38;5;241m.\u001b[39m_initial, \u001b[38;5;28mself\u001b[39m\u001b[38;5;241m.\u001b[39m_maximum, multiplier\u001b[38;5;241m=\u001b[39m\u001b[38;5;28mself\u001b[39m\u001b[38;5;241m.\u001b[39m_multiplier\n\u001b[1;32m    292\u001b[0m )\n\u001b[0;32m--> 293\u001b[0m \u001b[38;5;28;01mreturn\u001b[39;00m \u001b[43mretry_target\u001b[49m\u001b[43m(\u001b[49m\n\u001b[1;32m    294\u001b[0m \u001b[43m    \u001b[49m\u001b[43mtarget\u001b[49m\u001b[43m,\u001b[49m\n\u001b[1;32m    295\u001b[0m \u001b[43m    \u001b[49m\u001b[38;5;28;43mself\u001b[39;49m\u001b[38;5;241;43m.\u001b[39;49m\u001b[43m_predicate\u001b[49m\u001b[43m,\u001b[49m\n\u001b[1;32m    296\u001b[0m \u001b[43m    \u001b[49m\u001b[43msleep_generator\u001b[49m\u001b[43m,\u001b[49m\n\u001b[1;32m    297\u001b[0m \u001b[43m    \u001b[49m\u001b[43mtimeout\u001b[49m\u001b[38;5;241;43m=\u001b[39;49m\u001b[38;5;28;43mself\u001b[39;49m\u001b[38;5;241;43m.\u001b[39;49m\u001b[43m_timeout\u001b[49m\u001b[43m,\u001b[49m\n\u001b[1;32m    298\u001b[0m \u001b[43m    \u001b[49m\u001b[43mon_error\u001b[49m\u001b[38;5;241;43m=\u001b[39;49m\u001b[43mon_error\u001b[49m\u001b[43m,\u001b[49m\n\u001b[1;32m    299\u001b[0m \u001b[43m\u001b[49m\u001b[43m)\u001b[49m\n",
      "File \u001b[0;32m~/opt/anaconda3/envs/zg/lib/python3.9/site-packages/google/api_core/retry/retry_unary.py:144\u001b[0m, in \u001b[0;36mretry_target\u001b[0;34m(target, predicate, sleep_generator, timeout, on_error, exception_factory, **kwargs)\u001b[0m\n\u001b[1;32m    142\u001b[0m \u001b[38;5;28;01mfor\u001b[39;00m sleep \u001b[38;5;129;01min\u001b[39;00m sleep_generator:\n\u001b[1;32m    143\u001b[0m     \u001b[38;5;28;01mtry\u001b[39;00m:\n\u001b[0;32m--> 144\u001b[0m         result \u001b[38;5;241m=\u001b[39m \u001b[43mtarget\u001b[49m\u001b[43m(\u001b[49m\u001b[43m)\u001b[49m\n\u001b[1;32m    145\u001b[0m         \u001b[38;5;28;01mif\u001b[39;00m inspect\u001b[38;5;241m.\u001b[39misawaitable(result):\n\u001b[1;32m    146\u001b[0m             warnings\u001b[38;5;241m.\u001b[39mwarn(_ASYNC_RETRY_WARNING)\n",
      "File \u001b[0;32m~/opt/anaconda3/envs/zg/lib/python3.9/site-packages/google/api_core/timeout.py:120\u001b[0m, in \u001b[0;36mTimeToDeadlineTimeout.__call__.<locals>.func_with_timeout\u001b[0;34m(*args, **kwargs)\u001b[0m\n\u001b[1;32m    117\u001b[0m     \u001b[38;5;66;03m# Avoid setting negative timeout\u001b[39;00m\n\u001b[1;32m    118\u001b[0m     kwargs[\u001b[38;5;124m\"\u001b[39m\u001b[38;5;124mtimeout\u001b[39m\u001b[38;5;124m\"\u001b[39m] \u001b[38;5;241m=\u001b[39m \u001b[38;5;28mmax\u001b[39m(\u001b[38;5;241m0\u001b[39m, \u001b[38;5;28mself\u001b[39m\u001b[38;5;241m.\u001b[39m_timeout \u001b[38;5;241m-\u001b[39m time_since_first_attempt)\n\u001b[0;32m--> 120\u001b[0m \u001b[38;5;28;01mreturn\u001b[39;00m \u001b[43mfunc\u001b[49m\u001b[43m(\u001b[49m\u001b[38;5;241;43m*\u001b[39;49m\u001b[43margs\u001b[49m\u001b[43m,\u001b[49m\u001b[43m \u001b[49m\u001b[38;5;241;43m*\u001b[39;49m\u001b[38;5;241;43m*\u001b[39;49m\u001b[43mkwargs\u001b[49m\u001b[43m)\u001b[49m\n",
      "File \u001b[0;32m~/opt/anaconda3/envs/zg/lib/python3.9/site-packages/google/api_core/grpc_helpers.py:76\u001b[0m, in \u001b[0;36m_wrap_unary_errors.<locals>.error_remapped_callable\u001b[0;34m(*args, **kwargs)\u001b[0m\n\u001b[1;32m     73\u001b[0m \u001b[38;5;129m@functools\u001b[39m\u001b[38;5;241m.\u001b[39mwraps(callable_)\n\u001b[1;32m     74\u001b[0m \u001b[38;5;28;01mdef\u001b[39;00m \u001b[38;5;21merror_remapped_callable\u001b[39m(\u001b[38;5;241m*\u001b[39margs, \u001b[38;5;241m*\u001b[39m\u001b[38;5;241m*\u001b[39mkwargs):\n\u001b[1;32m     75\u001b[0m     \u001b[38;5;28;01mtry\u001b[39;00m:\n\u001b[0;32m---> 76\u001b[0m         \u001b[38;5;28;01mreturn\u001b[39;00m \u001b[43mcallable_\u001b[49m\u001b[43m(\u001b[49m\u001b[38;5;241;43m*\u001b[39;49m\u001b[43margs\u001b[49m\u001b[43m,\u001b[49m\u001b[43m \u001b[49m\u001b[38;5;241;43m*\u001b[39;49m\u001b[38;5;241;43m*\u001b[39;49m\u001b[43mkwargs\u001b[49m\u001b[43m)\u001b[49m\n\u001b[1;32m     77\u001b[0m     \u001b[38;5;28;01mexcept\u001b[39;00m grpc\u001b[38;5;241m.\u001b[39mRpcError \u001b[38;5;28;01mas\u001b[39;00m exc:\n\u001b[1;32m     78\u001b[0m         \u001b[38;5;28;01mraise\u001b[39;00m exceptions\u001b[38;5;241m.\u001b[39mfrom_grpc_error(exc) \u001b[38;5;28;01mfrom\u001b[39;00m \u001b[38;5;21;01mexc\u001b[39;00m\n",
      "File \u001b[0;32m~/opt/anaconda3/envs/zg/lib/python3.9/site-packages/grpc/_channel.py:1178\u001b[0m, in \u001b[0;36m_UnaryUnaryMultiCallable.__call__\u001b[0;34m(self, request, timeout, metadata, credentials, wait_for_ready, compression)\u001b[0m\n\u001b[1;32m   1166\u001b[0m \u001b[38;5;28;01mdef\u001b[39;00m \u001b[38;5;21m__call__\u001b[39m(\n\u001b[1;32m   1167\u001b[0m     \u001b[38;5;28mself\u001b[39m,\n\u001b[1;32m   1168\u001b[0m     request: Any,\n\u001b[0;32m   (...)\u001b[0m\n\u001b[1;32m   1173\u001b[0m     compression: Optional[grpc\u001b[38;5;241m.\u001b[39mCompression] \u001b[38;5;241m=\u001b[39m \u001b[38;5;28;01mNone\u001b[39;00m,\n\u001b[1;32m   1174\u001b[0m ) \u001b[38;5;241m-\u001b[39m\u001b[38;5;241m>\u001b[39m Any:\n\u001b[1;32m   1175\u001b[0m     (\n\u001b[1;32m   1176\u001b[0m         state,\n\u001b[1;32m   1177\u001b[0m         call,\n\u001b[0;32m-> 1178\u001b[0m     ) \u001b[38;5;241m=\u001b[39m \u001b[38;5;28;43mself\u001b[39;49m\u001b[38;5;241;43m.\u001b[39;49m\u001b[43m_blocking\u001b[49m\u001b[43m(\u001b[49m\n\u001b[1;32m   1179\u001b[0m \u001b[43m        \u001b[49m\u001b[43mrequest\u001b[49m\u001b[43m,\u001b[49m\u001b[43m \u001b[49m\u001b[43mtimeout\u001b[49m\u001b[43m,\u001b[49m\u001b[43m \u001b[49m\u001b[43mmetadata\u001b[49m\u001b[43m,\u001b[49m\u001b[43m \u001b[49m\u001b[43mcredentials\u001b[49m\u001b[43m,\u001b[49m\u001b[43m \u001b[49m\u001b[43mwait_for_ready\u001b[49m\u001b[43m,\u001b[49m\u001b[43m \u001b[49m\u001b[43mcompression\u001b[49m\n\u001b[1;32m   1180\u001b[0m \u001b[43m    \u001b[49m\u001b[43m)\u001b[49m\n\u001b[1;32m   1181\u001b[0m     \u001b[38;5;28;01mreturn\u001b[39;00m _end_unary_response_blocking(state, call, \u001b[38;5;28;01mFalse\u001b[39;00m, \u001b[38;5;28;01mNone\u001b[39;00m)\n",
      "File \u001b[0;32m~/opt/anaconda3/envs/zg/lib/python3.9/site-packages/grpc/_channel.py:1162\u001b[0m, in \u001b[0;36m_UnaryUnaryMultiCallable._blocking\u001b[0;34m(self, request, timeout, metadata, credentials, wait_for_ready, compression)\u001b[0m\n\u001b[1;32m   1145\u001b[0m state\u001b[38;5;241m.\u001b[39mtarget \u001b[38;5;241m=\u001b[39m _common\u001b[38;5;241m.\u001b[39mdecode(\u001b[38;5;28mself\u001b[39m\u001b[38;5;241m.\u001b[39m_target)\n\u001b[1;32m   1146\u001b[0m call \u001b[38;5;241m=\u001b[39m \u001b[38;5;28mself\u001b[39m\u001b[38;5;241m.\u001b[39m_channel\u001b[38;5;241m.\u001b[39msegregated_call(\n\u001b[1;32m   1147\u001b[0m     cygrpc\u001b[38;5;241m.\u001b[39mPropagationConstants\u001b[38;5;241m.\u001b[39mGRPC_PROPAGATE_DEFAULTS,\n\u001b[1;32m   1148\u001b[0m     \u001b[38;5;28mself\u001b[39m\u001b[38;5;241m.\u001b[39m_method,\n\u001b[0;32m   (...)\u001b[0m\n\u001b[1;32m   1160\u001b[0m     \u001b[38;5;28mself\u001b[39m\u001b[38;5;241m.\u001b[39m_registered_call_handle,\n\u001b[1;32m   1161\u001b[0m )\n\u001b[0;32m-> 1162\u001b[0m event \u001b[38;5;241m=\u001b[39m \u001b[43mcall\u001b[49m\u001b[38;5;241;43m.\u001b[39;49m\u001b[43mnext_event\u001b[49m\u001b[43m(\u001b[49m\u001b[43m)\u001b[49m\n\u001b[1;32m   1163\u001b[0m _handle_event(event, state, \u001b[38;5;28mself\u001b[39m\u001b[38;5;241m.\u001b[39m_response_deserializer)\n\u001b[1;32m   1164\u001b[0m \u001b[38;5;28;01mreturn\u001b[39;00m state, call\n",
      "File \u001b[0;32msrc/python/grpcio/grpc/_cython/_cygrpc/channel.pyx.pxi:388\u001b[0m, in \u001b[0;36mgrpc._cython.cygrpc.SegregatedCall.next_event\u001b[0;34m()\u001b[0m\n",
      "File \u001b[0;32msrc/python/grpcio/grpc/_cython/_cygrpc/channel.pyx.pxi:211\u001b[0m, in \u001b[0;36mgrpc._cython.cygrpc._next_call_event\u001b[0;34m()\u001b[0m\n",
      "File \u001b[0;32msrc/python/grpcio/grpc/_cython/_cygrpc/channel.pyx.pxi:205\u001b[0m, in \u001b[0;36mgrpc._cython.cygrpc._next_call_event\u001b[0;34m()\u001b[0m\n",
      "File \u001b[0;32msrc/python/grpcio/grpc/_cython/_cygrpc/completion_queue.pyx.pxi:78\u001b[0m, in \u001b[0;36mgrpc._cython.cygrpc._latent_event\u001b[0;34m()\u001b[0m\n",
      "File \u001b[0;32msrc/python/grpcio/grpc/_cython/_cygrpc/completion_queue.pyx.pxi:61\u001b[0m, in \u001b[0;36mgrpc._cython.cygrpc._internal_latent_event\u001b[0;34m()\u001b[0m\n",
      "File \u001b[0;32msrc/python/grpcio/grpc/_cython/_cygrpc/completion_queue.pyx.pxi:42\u001b[0m, in \u001b[0;36mgrpc._cython.cygrpc._next\u001b[0;34m()\u001b[0m\n",
      "\u001b[0;31mKeyboardInterrupt\u001b[0m: "
     ]
    }
   ],
   "source": [
    "# Call the function with a chapter name\n",
    "update_sections_with_content(chapter_name=\"ELECTRIC CHARGES AND FIELDS\",pdf_path=\"leph101.pdf\")"
   ]
  },
  {
   "cell_type": "code",
   "execution_count": 194,
   "id": "bfe5efd9",
   "metadata": {},
   "outputs": [],
   "source": [
    "# insert_into_neo4j(chapter_list,node_label='CHAPTERS',primary_key='chapter_name')\n",
    "# insert_into_neo4j(sections_list,node_label='SECTIONS',primary_key='section_name')\n",
    "# insert_into_neo4j(subsections_list,node_label='SUBSECTIONS',primary_key='sub_section_name')"
   ]
  },
  {
   "cell_type": "code",
   "execution_count": null,
   "id": "e975709b",
   "metadata": {},
   "outputs": [],
   "source": [
    "# MATCH (n:SUBJECT),(m:CHAPTER) where m.subject='physics' MERGE (n)-[r:HAS_CHAPTER]->(m)  RETURN r\n",
    "# MERGE (n:SUBJECT{name:'physics'}) RETURN n"
   ]
  }
 ],
 "metadata": {
  "kernelspec": {
   "display_name": "Python [conda env:zg]",
   "language": "python",
   "name": "conda-env-zg-py"
  },
  "language_info": {
   "codemirror_mode": {
    "name": "ipython",
    "version": 3
   },
   "file_extension": ".py",
   "mimetype": "text/x-python",
   "name": "python",
   "nbconvert_exporter": "python",
   "pygments_lexer": "ipython3",
   "version": "3.9.19"
  }
 },
 "nbformat": 4,
 "nbformat_minor": 5
}
